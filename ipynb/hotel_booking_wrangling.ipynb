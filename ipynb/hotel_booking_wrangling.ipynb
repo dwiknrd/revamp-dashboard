{
 "cells": [
  {
   "cell_type": "code",
   "metadata": {
    "tags": [],
    "cell_id": "00000-0b382fc8-1b24-4e80-b928-c7ad9adc513e",
    "deepnote_to_be_reexecuted": false,
    "source_hash": "9b82ee11",
    "execution_start": 1621914319637,
    "execution_millis": 2,
    "deepnote_cell_type": "code"
   },
   "source": "import pandas as pd",
   "execution_count": null,
   "outputs": []
  },
  {
   "cell_type": "code",
   "metadata": {
    "tags": [],
    "cell_id": "00001-e2428a2d-ab43-4886-9636-8a04056e8164",
    "deepnote_to_be_reexecuted": false,
    "source_hash": "269840e5",
    "execution_start": 1621914319641,
    "execution_millis": 420,
    "deepnote_cell_type": "code"
   },
   "source": "hotel = pd.read_csv('hotel_bookings.csv')\nhotel.head(2)",
   "execution_count": null,
   "outputs": [
    {
     "output_type": "execute_result",
     "execution_count": 2,
     "data": {
      "application/vnd.deepnote.dataframe.v2+json": {
       "row_count": 2,
       "column_count": 32,
       "columns": [
        {
         "name": "hotel",
         "dtype": "object",
         "stats": {
          "unique_count": 1,
          "nan_count": 0,
          "categories": [
           {
            "name": "Resort Hotel",
            "count": 2
           }
          ]
         }
        },
        {
         "name": "is_canceled",
         "dtype": "int64",
         "stats": {
          "unique_count": 1,
          "nan_count": 0,
          "min": "0",
          "max": "0",
          "histogram": [
           {
            "bin_start": -0.5,
            "bin_end": -0.4,
            "count": 0
           },
           {
            "bin_start": -0.4,
            "bin_end": -0.3,
            "count": 0
           },
           {
            "bin_start": -0.3,
            "bin_end": -0.19999999999999996,
            "count": 0
           },
           {
            "bin_start": -0.19999999999999996,
            "bin_end": -0.09999999999999998,
            "count": 0
           },
           {
            "bin_start": -0.09999999999999998,
            "bin_end": 0,
            "count": 0
           },
           {
            "bin_start": 0,
            "bin_end": 0.10000000000000009,
            "count": 2
           },
           {
            "bin_start": 0.10000000000000009,
            "bin_end": 0.20000000000000007,
            "count": 0
           },
           {
            "bin_start": 0.20000000000000007,
            "bin_end": 0.30000000000000004,
            "count": 0
           },
           {
            "bin_start": 0.30000000000000004,
            "bin_end": 0.4,
            "count": 0
           },
           {
            "bin_start": 0.4,
            "bin_end": 0.5,
            "count": 0
           }
          ]
         }
        },
        {
         "name": "lead_time",
         "dtype": "int64",
         "stats": {
          "unique_count": 2,
          "nan_count": 0,
          "min": "342",
          "max": "737",
          "histogram": [
           {
            "bin_start": 342,
            "bin_end": 381.5,
            "count": 1
           },
           {
            "bin_start": 381.5,
            "bin_end": 421,
            "count": 0
           },
           {
            "bin_start": 421,
            "bin_end": 460.5,
            "count": 0
           },
           {
            "bin_start": 460.5,
            "bin_end": 500,
            "count": 0
           },
           {
            "bin_start": 500,
            "bin_end": 539.5,
            "count": 0
           },
           {
            "bin_start": 539.5,
            "bin_end": 579,
            "count": 0
           },
           {
            "bin_start": 579,
            "bin_end": 618.5,
            "count": 0
           },
           {
            "bin_start": 618.5,
            "bin_end": 658,
            "count": 0
           },
           {
            "bin_start": 658,
            "bin_end": 697.5,
            "count": 0
           },
           {
            "bin_start": 697.5,
            "bin_end": 737,
            "count": 1
           }
          ]
         }
        },
        {
         "name": "arrival_date_year",
         "dtype": "int64",
         "stats": {
          "unique_count": 1,
          "nan_count": 0,
          "min": "2015",
          "max": "2015",
          "histogram": [
           {
            "bin_start": 2014.5,
            "bin_end": 2014.6,
            "count": 0
           },
           {
            "bin_start": 2014.6,
            "bin_end": 2014.7,
            "count": 0
           },
           {
            "bin_start": 2014.7,
            "bin_end": 2014.8,
            "count": 0
           },
           {
            "bin_start": 2014.8,
            "bin_end": 2014.9,
            "count": 0
           },
           {
            "bin_start": 2014.9,
            "bin_end": 2015,
            "count": 0
           },
           {
            "bin_start": 2015,
            "bin_end": 2015.1,
            "count": 2
           },
           {
            "bin_start": 2015.1,
            "bin_end": 2015.2,
            "count": 0
           },
           {
            "bin_start": 2015.2,
            "bin_end": 2015.3,
            "count": 0
           },
           {
            "bin_start": 2015.3,
            "bin_end": 2015.4,
            "count": 0
           },
           {
            "bin_start": 2015.4,
            "bin_end": 2015.5,
            "count": 0
           }
          ]
         }
        },
        {
         "name": "arrival_date_month",
         "dtype": "object",
         "stats": {
          "unique_count": 1,
          "nan_count": 0,
          "categories": [
           {
            "name": "July",
            "count": 2
           }
          ]
         }
        },
        {
         "name": "arrival_date_week_number",
         "dtype": "int64",
         "stats": {
          "unique_count": 1,
          "nan_count": 0,
          "min": "27",
          "max": "27",
          "histogram": [
           {
            "bin_start": 26.5,
            "bin_end": 26.6,
            "count": 0
           },
           {
            "bin_start": 26.6,
            "bin_end": 26.7,
            "count": 0
           },
           {
            "bin_start": 26.7,
            "bin_end": 26.8,
            "count": 0
           },
           {
            "bin_start": 26.8,
            "bin_end": 26.9,
            "count": 0
           },
           {
            "bin_start": 26.9,
            "bin_end": 27,
            "count": 0
           },
           {
            "bin_start": 27,
            "bin_end": 27.1,
            "count": 2
           },
           {
            "bin_start": 27.1,
            "bin_end": 27.2,
            "count": 0
           },
           {
            "bin_start": 27.2,
            "bin_end": 27.3,
            "count": 0
           },
           {
            "bin_start": 27.3,
            "bin_end": 27.4,
            "count": 0
           },
           {
            "bin_start": 27.4,
            "bin_end": 27.5,
            "count": 0
           }
          ]
         }
        },
        {
         "name": "arrival_date_day_of_month",
         "dtype": "int64",
         "stats": {
          "unique_count": 1,
          "nan_count": 0,
          "min": "1",
          "max": "1",
          "histogram": [
           {
            "bin_start": 0.5,
            "bin_end": 0.6,
            "count": 0
           },
           {
            "bin_start": 0.6,
            "bin_end": 0.7,
            "count": 0
           },
           {
            "bin_start": 0.7,
            "bin_end": 0.8,
            "count": 0
           },
           {
            "bin_start": 0.8,
            "bin_end": 0.9,
            "count": 0
           },
           {
            "bin_start": 0.9,
            "bin_end": 1,
            "count": 0
           },
           {
            "bin_start": 1,
            "bin_end": 1.1,
            "count": 2
           },
           {
            "bin_start": 1.1,
            "bin_end": 1.2000000000000002,
            "count": 0
           },
           {
            "bin_start": 1.2000000000000002,
            "bin_end": 1.3,
            "count": 0
           },
           {
            "bin_start": 1.3,
            "bin_end": 1.4,
            "count": 0
           },
           {
            "bin_start": 1.4,
            "bin_end": 1.5,
            "count": 0
           }
          ]
         }
        },
        {
         "name": "stays_in_weekend_nights",
         "dtype": "int64",
         "stats": {
          "unique_count": 1,
          "nan_count": 0,
          "min": "0",
          "max": "0",
          "histogram": [
           {
            "bin_start": -0.5,
            "bin_end": -0.4,
            "count": 0
           },
           {
            "bin_start": -0.4,
            "bin_end": -0.3,
            "count": 0
           },
           {
            "bin_start": -0.3,
            "bin_end": -0.19999999999999996,
            "count": 0
           },
           {
            "bin_start": -0.19999999999999996,
            "bin_end": -0.09999999999999998,
            "count": 0
           },
           {
            "bin_start": -0.09999999999999998,
            "bin_end": 0,
            "count": 0
           },
           {
            "bin_start": 0,
            "bin_end": 0.10000000000000009,
            "count": 2
           },
           {
            "bin_start": 0.10000000000000009,
            "bin_end": 0.20000000000000007,
            "count": 0
           },
           {
            "bin_start": 0.20000000000000007,
            "bin_end": 0.30000000000000004,
            "count": 0
           },
           {
            "bin_start": 0.30000000000000004,
            "bin_end": 0.4,
            "count": 0
           },
           {
            "bin_start": 0.4,
            "bin_end": 0.5,
            "count": 0
           }
          ]
         }
        },
        {
         "name": "stays_in_week_nights",
         "dtype": "int64",
         "stats": {
          "unique_count": 1,
          "nan_count": 0,
          "min": "0",
          "max": "0",
          "histogram": [
           {
            "bin_start": -0.5,
            "bin_end": -0.4,
            "count": 0
           },
           {
            "bin_start": -0.4,
            "bin_end": -0.3,
            "count": 0
           },
           {
            "bin_start": -0.3,
            "bin_end": -0.19999999999999996,
            "count": 0
           },
           {
            "bin_start": -0.19999999999999996,
            "bin_end": -0.09999999999999998,
            "count": 0
           },
           {
            "bin_start": -0.09999999999999998,
            "bin_end": 0,
            "count": 0
           },
           {
            "bin_start": 0,
            "bin_end": 0.10000000000000009,
            "count": 2
           },
           {
            "bin_start": 0.10000000000000009,
            "bin_end": 0.20000000000000007,
            "count": 0
           },
           {
            "bin_start": 0.20000000000000007,
            "bin_end": 0.30000000000000004,
            "count": 0
           },
           {
            "bin_start": 0.30000000000000004,
            "bin_end": 0.4,
            "count": 0
           },
           {
            "bin_start": 0.4,
            "bin_end": 0.5,
            "count": 0
           }
          ]
         }
        },
        {
         "name": "adults",
         "dtype": "int64",
         "stats": {
          "unique_count": 1,
          "nan_count": 0,
          "min": "2",
          "max": "2",
          "histogram": [
           {
            "bin_start": 1.5,
            "bin_end": 1.6,
            "count": 0
           },
           {
            "bin_start": 1.6,
            "bin_end": 1.7,
            "count": 0
           },
           {
            "bin_start": 1.7,
            "bin_end": 1.8,
            "count": 0
           },
           {
            "bin_start": 1.8,
            "bin_end": 1.9,
            "count": 0
           },
           {
            "bin_start": 1.9,
            "bin_end": 2,
            "count": 0
           },
           {
            "bin_start": 2,
            "bin_end": 2.1,
            "count": 2
           },
           {
            "bin_start": 2.1,
            "bin_end": 2.2,
            "count": 0
           },
           {
            "bin_start": 2.2,
            "bin_end": 2.3,
            "count": 0
           },
           {
            "bin_start": 2.3,
            "bin_end": 2.4,
            "count": 0
           },
           {
            "bin_start": 2.4,
            "bin_end": 2.5,
            "count": 0
           }
          ]
         }
        },
        {
         "name": "children",
         "dtype": "float64",
         "stats": {
          "unique_count": 1,
          "nan_count": 0,
          "min": "0.0",
          "max": "0.0",
          "histogram": [
           {
            "bin_start": -0.5,
            "bin_end": -0.4,
            "count": 0
           },
           {
            "bin_start": -0.4,
            "bin_end": -0.3,
            "count": 0
           },
           {
            "bin_start": -0.3,
            "bin_end": -0.19999999999999996,
            "count": 0
           },
           {
            "bin_start": -0.19999999999999996,
            "bin_end": -0.09999999999999998,
            "count": 0
           },
           {
            "bin_start": -0.09999999999999998,
            "bin_end": 0,
            "count": 0
           },
           {
            "bin_start": 0,
            "bin_end": 0.10000000000000009,
            "count": 2
           },
           {
            "bin_start": 0.10000000000000009,
            "bin_end": 0.20000000000000007,
            "count": 0
           },
           {
            "bin_start": 0.20000000000000007,
            "bin_end": 0.30000000000000004,
            "count": 0
           },
           {
            "bin_start": 0.30000000000000004,
            "bin_end": 0.4,
            "count": 0
           },
           {
            "bin_start": 0.4,
            "bin_end": 0.5,
            "count": 0
           }
          ]
         }
        },
        {
         "name": "babies",
         "dtype": "int64",
         "stats": {
          "unique_count": 1,
          "nan_count": 0,
          "min": "0",
          "max": "0",
          "histogram": [
           {
            "bin_start": -0.5,
            "bin_end": -0.4,
            "count": 0
           },
           {
            "bin_start": -0.4,
            "bin_end": -0.3,
            "count": 0
           },
           {
            "bin_start": -0.3,
            "bin_end": -0.19999999999999996,
            "count": 0
           },
           {
            "bin_start": -0.19999999999999996,
            "bin_end": -0.09999999999999998,
            "count": 0
           },
           {
            "bin_start": -0.09999999999999998,
            "bin_end": 0,
            "count": 0
           },
           {
            "bin_start": 0,
            "bin_end": 0.10000000000000009,
            "count": 2
           },
           {
            "bin_start": 0.10000000000000009,
            "bin_end": 0.20000000000000007,
            "count": 0
           },
           {
            "bin_start": 0.20000000000000007,
            "bin_end": 0.30000000000000004,
            "count": 0
           },
           {
            "bin_start": 0.30000000000000004,
            "bin_end": 0.4,
            "count": 0
           },
           {
            "bin_start": 0.4,
            "bin_end": 0.5,
            "count": 0
           }
          ]
         }
        },
        {
         "name": "meal",
         "dtype": "object",
         "stats": {
          "unique_count": 1,
          "nan_count": 0,
          "categories": [
           {
            "name": "BB",
            "count": 2
           }
          ]
         }
        },
        {
         "name": "country",
         "dtype": "object",
         "stats": {
          "unique_count": 1,
          "nan_count": 0,
          "categories": [
           {
            "name": "PRT",
            "count": 2
           }
          ]
         }
        },
        {
         "name": "market_segment",
         "dtype": "object",
         "stats": {
          "unique_count": 1,
          "nan_count": 0,
          "categories": [
           {
            "name": "Direct",
            "count": 2
           }
          ]
         }
        },
        {
         "name": "distribution_channel",
         "dtype": "object",
         "stats": {
          "unique_count": 1,
          "nan_count": 0,
          "categories": [
           {
            "name": "Direct",
            "count": 2
           }
          ]
         }
        },
        {
         "name": "is_repeated_guest",
         "dtype": "int64",
         "stats": {
          "unique_count": 1,
          "nan_count": 0,
          "min": "0",
          "max": "0",
          "histogram": [
           {
            "bin_start": -0.5,
            "bin_end": -0.4,
            "count": 0
           },
           {
            "bin_start": -0.4,
            "bin_end": -0.3,
            "count": 0
           },
           {
            "bin_start": -0.3,
            "bin_end": -0.19999999999999996,
            "count": 0
           },
           {
            "bin_start": -0.19999999999999996,
            "bin_end": -0.09999999999999998,
            "count": 0
           },
           {
            "bin_start": -0.09999999999999998,
            "bin_end": 0,
            "count": 0
           },
           {
            "bin_start": 0,
            "bin_end": 0.10000000000000009,
            "count": 2
           },
           {
            "bin_start": 0.10000000000000009,
            "bin_end": 0.20000000000000007,
            "count": 0
           },
           {
            "bin_start": 0.20000000000000007,
            "bin_end": 0.30000000000000004,
            "count": 0
           },
           {
            "bin_start": 0.30000000000000004,
            "bin_end": 0.4,
            "count": 0
           },
           {
            "bin_start": 0.4,
            "bin_end": 0.5,
            "count": 0
           }
          ]
         }
        },
        {
         "name": "previous_cancellations",
         "dtype": "int64",
         "stats": {
          "unique_count": 1,
          "nan_count": 0,
          "min": "0",
          "max": "0",
          "histogram": [
           {
            "bin_start": -0.5,
            "bin_end": -0.4,
            "count": 0
           },
           {
            "bin_start": -0.4,
            "bin_end": -0.3,
            "count": 0
           },
           {
            "bin_start": -0.3,
            "bin_end": -0.19999999999999996,
            "count": 0
           },
           {
            "bin_start": -0.19999999999999996,
            "bin_end": -0.09999999999999998,
            "count": 0
           },
           {
            "bin_start": -0.09999999999999998,
            "bin_end": 0,
            "count": 0
           },
           {
            "bin_start": 0,
            "bin_end": 0.10000000000000009,
            "count": 2
           },
           {
            "bin_start": 0.10000000000000009,
            "bin_end": 0.20000000000000007,
            "count": 0
           },
           {
            "bin_start": 0.20000000000000007,
            "bin_end": 0.30000000000000004,
            "count": 0
           },
           {
            "bin_start": 0.30000000000000004,
            "bin_end": 0.4,
            "count": 0
           },
           {
            "bin_start": 0.4,
            "bin_end": 0.5,
            "count": 0
           }
          ]
         }
        },
        {
         "name": "previous_bookings_not_canceled",
         "dtype": "int64",
         "stats": {
          "unique_count": 1,
          "nan_count": 0,
          "min": "0",
          "max": "0",
          "histogram": [
           {
            "bin_start": -0.5,
            "bin_end": -0.4,
            "count": 0
           },
           {
            "bin_start": -0.4,
            "bin_end": -0.3,
            "count": 0
           },
           {
            "bin_start": -0.3,
            "bin_end": -0.19999999999999996,
            "count": 0
           },
           {
            "bin_start": -0.19999999999999996,
            "bin_end": -0.09999999999999998,
            "count": 0
           },
           {
            "bin_start": -0.09999999999999998,
            "bin_end": 0,
            "count": 0
           },
           {
            "bin_start": 0,
            "bin_end": 0.10000000000000009,
            "count": 2
           },
           {
            "bin_start": 0.10000000000000009,
            "bin_end": 0.20000000000000007,
            "count": 0
           },
           {
            "bin_start": 0.20000000000000007,
            "bin_end": 0.30000000000000004,
            "count": 0
           },
           {
            "bin_start": 0.30000000000000004,
            "bin_end": 0.4,
            "count": 0
           },
           {
            "bin_start": 0.4,
            "bin_end": 0.5,
            "count": 0
           }
          ]
         }
        },
        {
         "name": "reserved_room_type",
         "dtype": "object",
         "stats": {
          "unique_count": 1,
          "nan_count": 0,
          "categories": [
           {
            "name": "C",
            "count": 2
           }
          ]
         }
        },
        {
         "name": "assigned_room_type",
         "dtype": "object",
         "stats": {
          "unique_count": 1,
          "nan_count": 0,
          "categories": [
           {
            "name": "C",
            "count": 2
           }
          ]
         }
        },
        {
         "name": "booking_changes",
         "dtype": "int64",
         "stats": {
          "unique_count": 2,
          "nan_count": 0,
          "min": "3",
          "max": "4",
          "histogram": [
           {
            "bin_start": 3,
            "bin_end": 3.1,
            "count": 1
           },
           {
            "bin_start": 3.1,
            "bin_end": 3.2,
            "count": 0
           },
           {
            "bin_start": 3.2,
            "bin_end": 3.3,
            "count": 0
           },
           {
            "bin_start": 3.3,
            "bin_end": 3.4,
            "count": 0
           },
           {
            "bin_start": 3.4,
            "bin_end": 3.5,
            "count": 0
           },
           {
            "bin_start": 3.5,
            "bin_end": 3.6,
            "count": 0
           },
           {
            "bin_start": 3.6,
            "bin_end": 3.7,
            "count": 0
           },
           {
            "bin_start": 3.7,
            "bin_end": 3.8,
            "count": 0
           },
           {
            "bin_start": 3.8,
            "bin_end": 3.9,
            "count": 0
           },
           {
            "bin_start": 3.9,
            "bin_end": 4,
            "count": 1
           }
          ]
         }
        },
        {
         "name": "deposit_type",
         "dtype": "object",
         "stats": {
          "unique_count": 1,
          "nan_count": 0,
          "categories": [
           {
            "name": "No Deposit",
            "count": 2
           }
          ]
         }
        },
        {
         "name": "agent",
         "dtype": "float64",
         "stats": {
          "unique_count": 0,
          "nan_count": 2,
          "min": null,
          "max": null,
          "histogram": [
           {
            "bin_start": 0,
            "bin_end": 0.1,
            "count": 0
           },
           {
            "bin_start": 0.1,
            "bin_end": 0.2,
            "count": 0
           },
           {
            "bin_start": 0.2,
            "bin_end": 0.30000000000000004,
            "count": 0
           },
           {
            "bin_start": 0.30000000000000004,
            "bin_end": 0.4,
            "count": 0
           },
           {
            "bin_start": 0.4,
            "bin_end": 0.5,
            "count": 0
           },
           {
            "bin_start": 0.5,
            "bin_end": 0.6000000000000001,
            "count": 0
           },
           {
            "bin_start": 0.6000000000000001,
            "bin_end": 0.7000000000000001,
            "count": 0
           },
           {
            "bin_start": 0.7000000000000001,
            "bin_end": 0.8,
            "count": 0
           },
           {
            "bin_start": 0.8,
            "bin_end": 0.9,
            "count": 0
           },
           {
            "bin_start": 0.9,
            "bin_end": 1,
            "count": 0
           }
          ]
         }
        },
        {
         "name": "company",
         "dtype": "float64",
         "stats": {
          "unique_count": 0,
          "nan_count": 2,
          "min": null,
          "max": null,
          "histogram": [
           {
            "bin_start": 0,
            "bin_end": 0.1,
            "count": 0
           },
           {
            "bin_start": 0.1,
            "bin_end": 0.2,
            "count": 0
           },
           {
            "bin_start": 0.2,
            "bin_end": 0.30000000000000004,
            "count": 0
           },
           {
            "bin_start": 0.30000000000000004,
            "bin_end": 0.4,
            "count": 0
           },
           {
            "bin_start": 0.4,
            "bin_end": 0.5,
            "count": 0
           },
           {
            "bin_start": 0.5,
            "bin_end": 0.6000000000000001,
            "count": 0
           },
           {
            "bin_start": 0.6000000000000001,
            "bin_end": 0.7000000000000001,
            "count": 0
           },
           {
            "bin_start": 0.7000000000000001,
            "bin_end": 0.8,
            "count": 0
           },
           {
            "bin_start": 0.8,
            "bin_end": 0.9,
            "count": 0
           },
           {
            "bin_start": 0.9,
            "bin_end": 1,
            "count": 0
           }
          ]
         }
        },
        {
         "name": "days_in_waiting_list",
         "dtype": "int64",
         "stats": {
          "unique_count": 1,
          "nan_count": 0,
          "min": "0",
          "max": "0",
          "histogram": [
           {
            "bin_start": -0.5,
            "bin_end": -0.4,
            "count": 0
           },
           {
            "bin_start": -0.4,
            "bin_end": -0.3,
            "count": 0
           },
           {
            "bin_start": -0.3,
            "bin_end": -0.19999999999999996,
            "count": 0
           },
           {
            "bin_start": -0.19999999999999996,
            "bin_end": -0.09999999999999998,
            "count": 0
           },
           {
            "bin_start": -0.09999999999999998,
            "bin_end": 0,
            "count": 0
           },
           {
            "bin_start": 0,
            "bin_end": 0.10000000000000009,
            "count": 2
           },
           {
            "bin_start": 0.10000000000000009,
            "bin_end": 0.20000000000000007,
            "count": 0
           },
           {
            "bin_start": 0.20000000000000007,
            "bin_end": 0.30000000000000004,
            "count": 0
           },
           {
            "bin_start": 0.30000000000000004,
            "bin_end": 0.4,
            "count": 0
           },
           {
            "bin_start": 0.4,
            "bin_end": 0.5,
            "count": 0
           }
          ]
         }
        },
        {
         "name": "customer_type",
         "dtype": "object",
         "stats": {
          "unique_count": 1,
          "nan_count": 0,
          "categories": [
           {
            "name": "Transient",
            "count": 2
           }
          ]
         }
        },
        {
         "name": "adr",
         "dtype": "float64",
         "stats": {
          "unique_count": 1,
          "nan_count": 0,
          "min": "0.0",
          "max": "0.0",
          "histogram": [
           {
            "bin_start": -0.5,
            "bin_end": -0.4,
            "count": 0
           },
           {
            "bin_start": -0.4,
            "bin_end": -0.3,
            "count": 0
           },
           {
            "bin_start": -0.3,
            "bin_end": -0.19999999999999996,
            "count": 0
           },
           {
            "bin_start": -0.19999999999999996,
            "bin_end": -0.09999999999999998,
            "count": 0
           },
           {
            "bin_start": -0.09999999999999998,
            "bin_end": 0,
            "count": 0
           },
           {
            "bin_start": 0,
            "bin_end": 0.10000000000000009,
            "count": 2
           },
           {
            "bin_start": 0.10000000000000009,
            "bin_end": 0.20000000000000007,
            "count": 0
           },
           {
            "bin_start": 0.20000000000000007,
            "bin_end": 0.30000000000000004,
            "count": 0
           },
           {
            "bin_start": 0.30000000000000004,
            "bin_end": 0.4,
            "count": 0
           },
           {
            "bin_start": 0.4,
            "bin_end": 0.5,
            "count": 0
           }
          ]
         }
        },
        {
         "name": "required_car_parking_spaces",
         "dtype": "int64",
         "stats": {
          "unique_count": 1,
          "nan_count": 0,
          "min": "0",
          "max": "0",
          "histogram": [
           {
            "bin_start": -0.5,
            "bin_end": -0.4,
            "count": 0
           },
           {
            "bin_start": -0.4,
            "bin_end": -0.3,
            "count": 0
           },
           {
            "bin_start": -0.3,
            "bin_end": -0.19999999999999996,
            "count": 0
           },
           {
            "bin_start": -0.19999999999999996,
            "bin_end": -0.09999999999999998,
            "count": 0
           },
           {
            "bin_start": -0.09999999999999998,
            "bin_end": 0,
            "count": 0
           },
           {
            "bin_start": 0,
            "bin_end": 0.10000000000000009,
            "count": 2
           },
           {
            "bin_start": 0.10000000000000009,
            "bin_end": 0.20000000000000007,
            "count": 0
           },
           {
            "bin_start": 0.20000000000000007,
            "bin_end": 0.30000000000000004,
            "count": 0
           },
           {
            "bin_start": 0.30000000000000004,
            "bin_end": 0.4,
            "count": 0
           },
           {
            "bin_start": 0.4,
            "bin_end": 0.5,
            "count": 0
           }
          ]
         }
        },
        {
         "name": "total_of_special_requests",
         "dtype": "int64",
         "stats": {
          "unique_count": 1,
          "nan_count": 0,
          "min": "0",
          "max": "0",
          "histogram": [
           {
            "bin_start": -0.5,
            "bin_end": -0.4,
            "count": 0
           },
           {
            "bin_start": -0.4,
            "bin_end": -0.3,
            "count": 0
           },
           {
            "bin_start": -0.3,
            "bin_end": -0.19999999999999996,
            "count": 0
           },
           {
            "bin_start": -0.19999999999999996,
            "bin_end": -0.09999999999999998,
            "count": 0
           },
           {
            "bin_start": -0.09999999999999998,
            "bin_end": 0,
            "count": 0
           },
           {
            "bin_start": 0,
            "bin_end": 0.10000000000000009,
            "count": 2
           },
           {
            "bin_start": 0.10000000000000009,
            "bin_end": 0.20000000000000007,
            "count": 0
           },
           {
            "bin_start": 0.20000000000000007,
            "bin_end": 0.30000000000000004,
            "count": 0
           },
           {
            "bin_start": 0.30000000000000004,
            "bin_end": 0.4,
            "count": 0
           },
           {
            "bin_start": 0.4,
            "bin_end": 0.5,
            "count": 0
           }
          ]
         }
        },
        {
         "name": "reservation_status",
         "dtype": "object",
         "stats": {
          "unique_count": 1,
          "nan_count": 0,
          "categories": [
           {
            "name": "Check-Out",
            "count": 2
           }
          ]
         }
        },
        {
         "name": "reservation_status_date",
         "dtype": "object",
         "stats": {
          "unique_count": 1,
          "nan_count": 0,
          "categories": [
           {
            "name": "2015-07-01",
            "count": 2
           }
          ]
         }
        },
        {
         "name": "_deepnote_index_column",
         "dtype": "int64"
        }
       ],
       "rows_top": [
        {
         "hotel": "Resort Hotel",
         "is_canceled": 0,
         "lead_time": 342,
         "arrival_date_year": 2015,
         "arrival_date_month": "July",
         "arrival_date_week_number": 27,
         "arrival_date_day_of_month": 1,
         "stays_in_weekend_nights": 0,
         "stays_in_week_nights": 0,
         "adults": 2,
         "children": 0,
         "babies": 0,
         "meal": "BB",
         "country": "PRT",
         "market_segment": "Direct",
         "distribution_channel": "Direct",
         "is_repeated_guest": 0,
         "previous_cancellations": 0,
         "previous_bookings_not_canceled": 0,
         "reserved_room_type": "C",
         "assigned_room_type": "C",
         "booking_changes": 3,
         "deposit_type": "No Deposit",
         "agent": "nan",
         "company": "nan",
         "days_in_waiting_list": 0,
         "customer_type": "Transient",
         "adr": 0,
         "required_car_parking_spaces": 0,
         "total_of_special_requests": 0,
         "reservation_status": "Check-Out",
         "reservation_status_date": "2015-07-01",
         "_deepnote_index_column": 0
        },
        {
         "hotel": "Resort Hotel",
         "is_canceled": 0,
         "lead_time": 737,
         "arrival_date_year": 2015,
         "arrival_date_month": "July",
         "arrival_date_week_number": 27,
         "arrival_date_day_of_month": 1,
         "stays_in_weekend_nights": 0,
         "stays_in_week_nights": 0,
         "adults": 2,
         "children": 0,
         "babies": 0,
         "meal": "BB",
         "country": "PRT",
         "market_segment": "Direct",
         "distribution_channel": "Direct",
         "is_repeated_guest": 0,
         "previous_cancellations": 0,
         "previous_bookings_not_canceled": 0,
         "reserved_room_type": "C",
         "assigned_room_type": "C",
         "booking_changes": 4,
         "deposit_type": "No Deposit",
         "agent": "nan",
         "company": "nan",
         "days_in_waiting_list": 0,
         "customer_type": "Transient",
         "adr": 0,
         "required_car_parking_spaces": 0,
         "total_of_special_requests": 0,
         "reservation_status": "Check-Out",
         "reservation_status_date": "2015-07-01",
         "_deepnote_index_column": 1
        }
       ],
       "rows_bottom": null
      },
      "text/plain": "          hotel  is_canceled  lead_time  arrival_date_year arrival_date_month  \\\n0  Resort Hotel            0        342               2015               July   \n1  Resort Hotel            0        737               2015               July   \n\n   arrival_date_week_number  arrival_date_day_of_month  \\\n0                        27                          1   \n1                        27                          1   \n\n   stays_in_weekend_nights  stays_in_week_nights  adults  ...  deposit_type  \\\n0                        0                     0       2  ...    No Deposit   \n1                        0                     0       2  ...    No Deposit   \n\n   agent company days_in_waiting_list customer_type  adr  \\\n0    NaN     NaN                    0     Transient  0.0   \n1    NaN     NaN                    0     Transient  0.0   \n\n   required_car_parking_spaces  total_of_special_requests  reservation_status  \\\n0                            0                          0           Check-Out   \n1                            0                          0           Check-Out   \n\n  reservation_status_date  \n0              2015-07-01  \n1              2015-07-01  \n\n[2 rows x 32 columns]",
      "text/html": "<div>\n<style scoped>\n    .dataframe tbody tr th:only-of-type {\n        vertical-align: middle;\n    }\n\n    .dataframe tbody tr th {\n        vertical-align: top;\n    }\n\n    .dataframe thead th {\n        text-align: right;\n    }\n</style>\n<table border=\"1\" class=\"dataframe\">\n  <thead>\n    <tr style=\"text-align: right;\">\n      <th></th>\n      <th>hotel</th>\n      <th>is_canceled</th>\n      <th>lead_time</th>\n      <th>arrival_date_year</th>\n      <th>arrival_date_month</th>\n      <th>arrival_date_week_number</th>\n      <th>arrival_date_day_of_month</th>\n      <th>stays_in_weekend_nights</th>\n      <th>stays_in_week_nights</th>\n      <th>adults</th>\n      <th>...</th>\n      <th>deposit_type</th>\n      <th>agent</th>\n      <th>company</th>\n      <th>days_in_waiting_list</th>\n      <th>customer_type</th>\n      <th>adr</th>\n      <th>required_car_parking_spaces</th>\n      <th>total_of_special_requests</th>\n      <th>reservation_status</th>\n      <th>reservation_status_date</th>\n    </tr>\n  </thead>\n  <tbody>\n    <tr>\n      <th>0</th>\n      <td>Resort Hotel</td>\n      <td>0</td>\n      <td>342</td>\n      <td>2015</td>\n      <td>July</td>\n      <td>27</td>\n      <td>1</td>\n      <td>0</td>\n      <td>0</td>\n      <td>2</td>\n      <td>...</td>\n      <td>No Deposit</td>\n      <td>NaN</td>\n      <td>NaN</td>\n      <td>0</td>\n      <td>Transient</td>\n      <td>0.0</td>\n      <td>0</td>\n      <td>0</td>\n      <td>Check-Out</td>\n      <td>2015-07-01</td>\n    </tr>\n    <tr>\n      <th>1</th>\n      <td>Resort Hotel</td>\n      <td>0</td>\n      <td>737</td>\n      <td>2015</td>\n      <td>July</td>\n      <td>27</td>\n      <td>1</td>\n      <td>0</td>\n      <td>0</td>\n      <td>2</td>\n      <td>...</td>\n      <td>No Deposit</td>\n      <td>NaN</td>\n      <td>NaN</td>\n      <td>0</td>\n      <td>Transient</td>\n      <td>0.0</td>\n      <td>0</td>\n      <td>0</td>\n      <td>Check-Out</td>\n      <td>2015-07-01</td>\n    </tr>\n  </tbody>\n</table>\n<p>2 rows × 32 columns</p>\n</div>"
     },
     "metadata": {}
    }
   ]
  },
  {
   "cell_type": "code",
   "metadata": {
    "tags": [],
    "cell_id": "00002-de4fde40-c47f-4b02-b78f-eadc01abd2d8",
    "deepnote_to_be_reexecuted": false,
    "source_hash": "ea0cf988",
    "execution_start": 1621914320059,
    "execution_millis": 111,
    "deepnote_cell_type": "code"
   },
   "source": "hotel.info()",
   "execution_count": null,
   "outputs": [
    {
     "name": "stdout",
     "text": "<class 'pandas.core.frame.DataFrame'>\nRangeIndex: 119390 entries, 0 to 119389\nData columns (total 32 columns):\n #   Column                          Non-Null Count   Dtype  \n---  ------                          --------------   -----  \n 0   hotel                           119390 non-null  object \n 1   is_canceled                     119390 non-null  int64  \n 2   lead_time                       119390 non-null  int64  \n 3   arrival_date_year               119390 non-null  int64  \n 4   arrival_date_month              119390 non-null  object \n 5   arrival_date_week_number        119390 non-null  int64  \n 6   arrival_date_day_of_month       119390 non-null  int64  \n 7   stays_in_weekend_nights         119390 non-null  int64  \n 8   stays_in_week_nights            119390 non-null  int64  \n 9   adults                          119390 non-null  int64  \n 10  children                        119386 non-null  float64\n 11  babies                          119390 non-null  int64  \n 12  meal                            119390 non-null  object \n 13  country                         118902 non-null  object \n 14  market_segment                  119390 non-null  object \n 15  distribution_channel            119390 non-null  object \n 16  is_repeated_guest               119390 non-null  int64  \n 17  previous_cancellations          119390 non-null  int64  \n 18  previous_bookings_not_canceled  119390 non-null  int64  \n 19  reserved_room_type              119390 non-null  object \n 20  assigned_room_type              119390 non-null  object \n 21  booking_changes                 119390 non-null  int64  \n 22  deposit_type                    119390 non-null  object \n 23  agent                           103050 non-null  float64\n 24  company                         6797 non-null    float64\n 25  days_in_waiting_list            119390 non-null  int64  \n 26  customer_type                   119390 non-null  object \n 27  adr                             119390 non-null  float64\n 28  required_car_parking_spaces     119390 non-null  int64  \n 29  total_of_special_requests       119390 non-null  int64  \n 30  reservation_status              119390 non-null  object \n 31  reservation_status_date         119390 non-null  object \ndtypes: float64(4), int64(16), object(12)\nmemory usage: 29.1+ MB\n",
     "output_type": "stream"
    }
   ]
  },
  {
   "cell_type": "code",
   "metadata": {
    "tags": [],
    "cell_id": "00002-bb3462dc-60db-4aa6-a676-6ef843268506",
    "deepnote_to_be_reexecuted": false,
    "source_hash": "b2b86524",
    "execution_start": 1621914320167,
    "execution_millis": 201,
    "deepnote_cell_type": "code"
   },
   "source": "hotel['arrival_date']= hotel['arrival_date_year'].astype(str) + '-' + hotel['arrival_date_month'] + '-' + hotel['arrival_date_day_of_month'].astype(str)\n",
   "execution_count": null,
   "outputs": []
  },
  {
   "cell_type": "code",
   "metadata": {
    "tags": [],
    "cell_id": "00004-fb33f60a-11d3-49d8-87b2-f0f0c633a364",
    "deepnote_to_be_reexecuted": false,
    "source_hash": "d0e34073",
    "execution_start": 1621914320375,
    "execution_millis": 8,
    "deepnote_cell_type": "code"
   },
   "source": "columns_used = [\n    'hotel',\n    'is_canceled',\n    'lead_time',\n    'arrival_date',\n    'stays_in_weekend_nights',\n    'stays_in_week_nights',\n    'adults',\n    'children',\n    'babies',\n    'country',\n    'adr'\n]\ncolumns_used",
   "execution_count": null,
   "outputs": [
    {
     "output_type": "execute_result",
     "execution_count": 5,
     "data": {
      "text/plain": "['hotel',\n 'is_canceled',\n 'lead_time',\n 'arrival_date',\n 'stays_in_weekend_nights',\n 'stays_in_week_nights',\n 'adults',\n 'children',\n 'babies',\n 'country',\n 'adr']"
     },
     "metadata": {}
    }
   ]
  },
  {
   "cell_type": "code",
   "metadata": {
    "tags": [],
    "cell_id": "00004-da6eb497-f8cc-4f30-8716-f8bec291ed6f",
    "deepnote_to_be_reexecuted": false,
    "source_hash": "9b07df1b",
    "execution_start": 1621914320398,
    "execution_millis": 9,
    "deepnote_cell_type": "code"
   },
   "source": "list_columns = list(hotel.columns.values)\nlist_columns",
   "execution_count": null,
   "outputs": [
    {
     "output_type": "execute_result",
     "execution_count": 6,
     "data": {
      "text/plain": "['hotel',\n 'is_canceled',\n 'lead_time',\n 'arrival_date_year',\n 'arrival_date_month',\n 'arrival_date_week_number',\n 'arrival_date_day_of_month',\n 'stays_in_weekend_nights',\n 'stays_in_week_nights',\n 'adults',\n 'children',\n 'babies',\n 'meal',\n 'country',\n 'market_segment',\n 'distribution_channel',\n 'is_repeated_guest',\n 'previous_cancellations',\n 'previous_bookings_not_canceled',\n 'reserved_room_type',\n 'assigned_room_type',\n 'booking_changes',\n 'deposit_type',\n 'agent',\n 'company',\n 'days_in_waiting_list',\n 'customer_type',\n 'adr',\n 'required_car_parking_spaces',\n 'total_of_special_requests',\n 'reservation_status',\n 'reservation_status_date',\n 'arrival_date']"
     },
     "metadata": {}
    }
   ]
  },
  {
   "cell_type": "code",
   "metadata": {
    "tags": [],
    "cell_id": "00005-09e89d66-81b5-47ab-9dd0-6e363c5f4139",
    "deepnote_to_be_reexecuted": false,
    "source_hash": "da1bf3fd",
    "execution_start": 1621914320399,
    "execution_millis": 0,
    "output_cleared": false,
    "deepnote_cell_type": "code"
   },
   "source": "for i in columns_used[:]:\n    list_columns.remove(i)",
   "execution_count": null,
   "outputs": []
  },
  {
   "cell_type": "code",
   "metadata": {
    "tags": [],
    "cell_id": "00006-ca08f378-da7a-41ef-bcf4-1ae9426e94f2",
    "deepnote_to_be_reexecuted": false,
    "source_hash": "c3ab0803",
    "execution_start": 1621914320399,
    "execution_millis": 10,
    "deepnote_cell_type": "code"
   },
   "source": "list_columns",
   "execution_count": null,
   "outputs": [
    {
     "output_type": "execute_result",
     "execution_count": 8,
     "data": {
      "text/plain": "['arrival_date_year',\n 'arrival_date_month',\n 'arrival_date_week_number',\n 'arrival_date_day_of_month',\n 'meal',\n 'market_segment',\n 'distribution_channel',\n 'is_repeated_guest',\n 'previous_cancellations',\n 'previous_bookings_not_canceled',\n 'reserved_room_type',\n 'assigned_room_type',\n 'booking_changes',\n 'deposit_type',\n 'agent',\n 'company',\n 'days_in_waiting_list',\n 'customer_type',\n 'required_car_parking_spaces',\n 'total_of_special_requests',\n 'reservation_status',\n 'reservation_status_date']"
     },
     "metadata": {}
    }
   ]
  },
  {
   "cell_type": "code",
   "metadata": {
    "tags": [],
    "cell_id": "00007-0013f816-7025-405d-bcb6-e56745fc8e81",
    "deepnote_to_be_reexecuted": false,
    "source_hash": "3a94d235",
    "execution_start": 1621914320402,
    "execution_millis": 43,
    "output_cleared": false,
    "deepnote_cell_type": "code"
   },
   "source": "hotel.drop(list_columns, axis=1, inplace=True)",
   "execution_count": null,
   "outputs": []
  },
  {
   "cell_type": "code",
   "metadata": {
    "tags": [],
    "cell_id": "00008-478f538f-03ac-4718-87c5-7ec22a60985c",
    "deepnote_to_be_reexecuted": false,
    "source_hash": "dfdc24c8",
    "execution_start": 1621914320478,
    "execution_millis": 16,
    "output_cleared": false,
    "deepnote_cell_type": "code"
   },
   "source": "hotel.head(2)",
   "execution_count": null,
   "outputs": [
    {
     "output_type": "execute_result",
     "execution_count": 10,
     "data": {
      "application/vnd.deepnote.dataframe.v2+json": {
       "row_count": 2,
       "column_count": 11,
       "columns": [
        {
         "name": "hotel",
         "dtype": "object",
         "stats": {
          "unique_count": 1,
          "nan_count": 0,
          "categories": [
           {
            "name": "Resort Hotel",
            "count": 2
           }
          ]
         }
        },
        {
         "name": "is_canceled",
         "dtype": "int64",
         "stats": {
          "unique_count": 1,
          "nan_count": 0,
          "min": "0",
          "max": "0",
          "histogram": [
           {
            "bin_start": -0.5,
            "bin_end": -0.4,
            "count": 0
           },
           {
            "bin_start": -0.4,
            "bin_end": -0.3,
            "count": 0
           },
           {
            "bin_start": -0.3,
            "bin_end": -0.19999999999999996,
            "count": 0
           },
           {
            "bin_start": -0.19999999999999996,
            "bin_end": -0.09999999999999998,
            "count": 0
           },
           {
            "bin_start": -0.09999999999999998,
            "bin_end": 0,
            "count": 0
           },
           {
            "bin_start": 0,
            "bin_end": 0.10000000000000009,
            "count": 2
           },
           {
            "bin_start": 0.10000000000000009,
            "bin_end": 0.20000000000000007,
            "count": 0
           },
           {
            "bin_start": 0.20000000000000007,
            "bin_end": 0.30000000000000004,
            "count": 0
           },
           {
            "bin_start": 0.30000000000000004,
            "bin_end": 0.4,
            "count": 0
           },
           {
            "bin_start": 0.4,
            "bin_end": 0.5,
            "count": 0
           }
          ]
         }
        },
        {
         "name": "lead_time",
         "dtype": "int64",
         "stats": {
          "unique_count": 2,
          "nan_count": 0,
          "min": "342",
          "max": "737",
          "histogram": [
           {
            "bin_start": 342,
            "bin_end": 381.5,
            "count": 1
           },
           {
            "bin_start": 381.5,
            "bin_end": 421,
            "count": 0
           },
           {
            "bin_start": 421,
            "bin_end": 460.5,
            "count": 0
           },
           {
            "bin_start": 460.5,
            "bin_end": 500,
            "count": 0
           },
           {
            "bin_start": 500,
            "bin_end": 539.5,
            "count": 0
           },
           {
            "bin_start": 539.5,
            "bin_end": 579,
            "count": 0
           },
           {
            "bin_start": 579,
            "bin_end": 618.5,
            "count": 0
           },
           {
            "bin_start": 618.5,
            "bin_end": 658,
            "count": 0
           },
           {
            "bin_start": 658,
            "bin_end": 697.5,
            "count": 0
           },
           {
            "bin_start": 697.5,
            "bin_end": 737,
            "count": 1
           }
          ]
         }
        },
        {
         "name": "stays_in_weekend_nights",
         "dtype": "int64",
         "stats": {
          "unique_count": 1,
          "nan_count": 0,
          "min": "0",
          "max": "0",
          "histogram": [
           {
            "bin_start": -0.5,
            "bin_end": -0.4,
            "count": 0
           },
           {
            "bin_start": -0.4,
            "bin_end": -0.3,
            "count": 0
           },
           {
            "bin_start": -0.3,
            "bin_end": -0.19999999999999996,
            "count": 0
           },
           {
            "bin_start": -0.19999999999999996,
            "bin_end": -0.09999999999999998,
            "count": 0
           },
           {
            "bin_start": -0.09999999999999998,
            "bin_end": 0,
            "count": 0
           },
           {
            "bin_start": 0,
            "bin_end": 0.10000000000000009,
            "count": 2
           },
           {
            "bin_start": 0.10000000000000009,
            "bin_end": 0.20000000000000007,
            "count": 0
           },
           {
            "bin_start": 0.20000000000000007,
            "bin_end": 0.30000000000000004,
            "count": 0
           },
           {
            "bin_start": 0.30000000000000004,
            "bin_end": 0.4,
            "count": 0
           },
           {
            "bin_start": 0.4,
            "bin_end": 0.5,
            "count": 0
           }
          ]
         }
        },
        {
         "name": "stays_in_week_nights",
         "dtype": "int64",
         "stats": {
          "unique_count": 1,
          "nan_count": 0,
          "min": "0",
          "max": "0",
          "histogram": [
           {
            "bin_start": -0.5,
            "bin_end": -0.4,
            "count": 0
           },
           {
            "bin_start": -0.4,
            "bin_end": -0.3,
            "count": 0
           },
           {
            "bin_start": -0.3,
            "bin_end": -0.19999999999999996,
            "count": 0
           },
           {
            "bin_start": -0.19999999999999996,
            "bin_end": -0.09999999999999998,
            "count": 0
           },
           {
            "bin_start": -0.09999999999999998,
            "bin_end": 0,
            "count": 0
           },
           {
            "bin_start": 0,
            "bin_end": 0.10000000000000009,
            "count": 2
           },
           {
            "bin_start": 0.10000000000000009,
            "bin_end": 0.20000000000000007,
            "count": 0
           },
           {
            "bin_start": 0.20000000000000007,
            "bin_end": 0.30000000000000004,
            "count": 0
           },
           {
            "bin_start": 0.30000000000000004,
            "bin_end": 0.4,
            "count": 0
           },
           {
            "bin_start": 0.4,
            "bin_end": 0.5,
            "count": 0
           }
          ]
         }
        },
        {
         "name": "adults",
         "dtype": "int64",
         "stats": {
          "unique_count": 1,
          "nan_count": 0,
          "min": "2",
          "max": "2",
          "histogram": [
           {
            "bin_start": 1.5,
            "bin_end": 1.6,
            "count": 0
           },
           {
            "bin_start": 1.6,
            "bin_end": 1.7,
            "count": 0
           },
           {
            "bin_start": 1.7,
            "bin_end": 1.8,
            "count": 0
           },
           {
            "bin_start": 1.8,
            "bin_end": 1.9,
            "count": 0
           },
           {
            "bin_start": 1.9,
            "bin_end": 2,
            "count": 0
           },
           {
            "bin_start": 2,
            "bin_end": 2.1,
            "count": 2
           },
           {
            "bin_start": 2.1,
            "bin_end": 2.2,
            "count": 0
           },
           {
            "bin_start": 2.2,
            "bin_end": 2.3,
            "count": 0
           },
           {
            "bin_start": 2.3,
            "bin_end": 2.4,
            "count": 0
           },
           {
            "bin_start": 2.4,
            "bin_end": 2.5,
            "count": 0
           }
          ]
         }
        },
        {
         "name": "children",
         "dtype": "float64",
         "stats": {
          "unique_count": 1,
          "nan_count": 0,
          "min": "0.0",
          "max": "0.0",
          "histogram": [
           {
            "bin_start": -0.5,
            "bin_end": -0.4,
            "count": 0
           },
           {
            "bin_start": -0.4,
            "bin_end": -0.3,
            "count": 0
           },
           {
            "bin_start": -0.3,
            "bin_end": -0.19999999999999996,
            "count": 0
           },
           {
            "bin_start": -0.19999999999999996,
            "bin_end": -0.09999999999999998,
            "count": 0
           },
           {
            "bin_start": -0.09999999999999998,
            "bin_end": 0,
            "count": 0
           },
           {
            "bin_start": 0,
            "bin_end": 0.10000000000000009,
            "count": 2
           },
           {
            "bin_start": 0.10000000000000009,
            "bin_end": 0.20000000000000007,
            "count": 0
           },
           {
            "bin_start": 0.20000000000000007,
            "bin_end": 0.30000000000000004,
            "count": 0
           },
           {
            "bin_start": 0.30000000000000004,
            "bin_end": 0.4,
            "count": 0
           },
           {
            "bin_start": 0.4,
            "bin_end": 0.5,
            "count": 0
           }
          ]
         }
        },
        {
         "name": "babies",
         "dtype": "int64",
         "stats": {
          "unique_count": 1,
          "nan_count": 0,
          "min": "0",
          "max": "0",
          "histogram": [
           {
            "bin_start": -0.5,
            "bin_end": -0.4,
            "count": 0
           },
           {
            "bin_start": -0.4,
            "bin_end": -0.3,
            "count": 0
           },
           {
            "bin_start": -0.3,
            "bin_end": -0.19999999999999996,
            "count": 0
           },
           {
            "bin_start": -0.19999999999999996,
            "bin_end": -0.09999999999999998,
            "count": 0
           },
           {
            "bin_start": -0.09999999999999998,
            "bin_end": 0,
            "count": 0
           },
           {
            "bin_start": 0,
            "bin_end": 0.10000000000000009,
            "count": 2
           },
           {
            "bin_start": 0.10000000000000009,
            "bin_end": 0.20000000000000007,
            "count": 0
           },
           {
            "bin_start": 0.20000000000000007,
            "bin_end": 0.30000000000000004,
            "count": 0
           },
           {
            "bin_start": 0.30000000000000004,
            "bin_end": 0.4,
            "count": 0
           },
           {
            "bin_start": 0.4,
            "bin_end": 0.5,
            "count": 0
           }
          ]
         }
        },
        {
         "name": "country",
         "dtype": "object",
         "stats": {
          "unique_count": 1,
          "nan_count": 0,
          "categories": [
           {
            "name": "PRT",
            "count": 2
           }
          ]
         }
        },
        {
         "name": "adr",
         "dtype": "float64",
         "stats": {
          "unique_count": 1,
          "nan_count": 0,
          "min": "0.0",
          "max": "0.0",
          "histogram": [
           {
            "bin_start": -0.5,
            "bin_end": -0.4,
            "count": 0
           },
           {
            "bin_start": -0.4,
            "bin_end": -0.3,
            "count": 0
           },
           {
            "bin_start": -0.3,
            "bin_end": -0.19999999999999996,
            "count": 0
           },
           {
            "bin_start": -0.19999999999999996,
            "bin_end": -0.09999999999999998,
            "count": 0
           },
           {
            "bin_start": -0.09999999999999998,
            "bin_end": 0,
            "count": 0
           },
           {
            "bin_start": 0,
            "bin_end": 0.10000000000000009,
            "count": 2
           },
           {
            "bin_start": 0.10000000000000009,
            "bin_end": 0.20000000000000007,
            "count": 0
           },
           {
            "bin_start": 0.20000000000000007,
            "bin_end": 0.30000000000000004,
            "count": 0
           },
           {
            "bin_start": 0.30000000000000004,
            "bin_end": 0.4,
            "count": 0
           },
           {
            "bin_start": 0.4,
            "bin_end": 0.5,
            "count": 0
           }
          ]
         }
        },
        {
         "name": "arrival_date",
         "dtype": "object",
         "stats": {
          "unique_count": 1,
          "nan_count": 0,
          "categories": [
           {
            "name": "2015-July-1",
            "count": 2
           }
          ]
         }
        },
        {
         "name": "_deepnote_index_column",
         "dtype": "int64"
        }
       ],
       "rows_top": [
        {
         "hotel": "Resort Hotel",
         "is_canceled": 0,
         "lead_time": 342,
         "stays_in_weekend_nights": 0,
         "stays_in_week_nights": 0,
         "adults": 2,
         "children": 0,
         "babies": 0,
         "country": "PRT",
         "adr": 0,
         "arrival_date": "2015-July-1",
         "_deepnote_index_column": 0
        },
        {
         "hotel": "Resort Hotel",
         "is_canceled": 0,
         "lead_time": 737,
         "stays_in_weekend_nights": 0,
         "stays_in_week_nights": 0,
         "adults": 2,
         "children": 0,
         "babies": 0,
         "country": "PRT",
         "adr": 0,
         "arrival_date": "2015-July-1",
         "_deepnote_index_column": 1
        }
       ],
       "rows_bottom": null
      },
      "text/plain": "          hotel  is_canceled  lead_time  stays_in_weekend_nights  \\\n0  Resort Hotel            0        342                        0   \n1  Resort Hotel            0        737                        0   \n\n   stays_in_week_nights  adults  children  babies country  adr arrival_date  \n0                     0       2       0.0       0     PRT  0.0  2015-July-1  \n1                     0       2       0.0       0     PRT  0.0  2015-July-1  ",
      "text/html": "<div>\n<style scoped>\n    .dataframe tbody tr th:only-of-type {\n        vertical-align: middle;\n    }\n\n    .dataframe tbody tr th {\n        vertical-align: top;\n    }\n\n    .dataframe thead th {\n        text-align: right;\n    }\n</style>\n<table border=\"1\" class=\"dataframe\">\n  <thead>\n    <tr style=\"text-align: right;\">\n      <th></th>\n      <th>hotel</th>\n      <th>is_canceled</th>\n      <th>lead_time</th>\n      <th>stays_in_weekend_nights</th>\n      <th>stays_in_week_nights</th>\n      <th>adults</th>\n      <th>children</th>\n      <th>babies</th>\n      <th>country</th>\n      <th>adr</th>\n      <th>arrival_date</th>\n    </tr>\n  </thead>\n  <tbody>\n    <tr>\n      <th>0</th>\n      <td>Resort Hotel</td>\n      <td>0</td>\n      <td>342</td>\n      <td>0</td>\n      <td>0</td>\n      <td>2</td>\n      <td>0.0</td>\n      <td>0</td>\n      <td>PRT</td>\n      <td>0.0</td>\n      <td>2015-July-1</td>\n    </tr>\n    <tr>\n      <th>1</th>\n      <td>Resort Hotel</td>\n      <td>0</td>\n      <td>737</td>\n      <td>0</td>\n      <td>0</td>\n      <td>2</td>\n      <td>0.0</td>\n      <td>0</td>\n      <td>PRT</td>\n      <td>0.0</td>\n      <td>2015-July-1</td>\n    </tr>\n  </tbody>\n</table>\n</div>"
     },
     "metadata": {}
    }
   ]
  },
  {
   "cell_type": "code",
   "metadata": {
    "tags": [],
    "cell_id": "00010-1d572340-e2cb-437f-8aaa-85935b930f36",
    "deepnote_to_be_reexecuted": false,
    "source_hash": "c388c954",
    "execution_start": 1621914320485,
    "execution_millis": 2,
    "deepnote_cell_type": "code"
   },
   "source": "hotel['children_guest'] = hotel['children'] + hotel['babies']",
   "execution_count": null,
   "outputs": []
  },
  {
   "cell_type": "code",
   "metadata": {
    "tags": [],
    "cell_id": "00011-02821011-43dd-4aae-8f8f-109f20279770",
    "deepnote_to_be_reexecuted": false,
    "source_hash": "99925195",
    "execution_start": 1621914320491,
    "execution_millis": 11,
    "deepnote_cell_type": "code"
   },
   "source": "hotel.drop(columns=['children','babies'],inplace=True)",
   "execution_count": null,
   "outputs": []
  },
  {
   "cell_type": "code",
   "metadata": {
    "tags": [],
    "cell_id": "00012-7fa47de4-08b6-4726-8210-ae169943588a",
    "deepnote_to_be_reexecuted": false,
    "source_hash": "19f8dd60",
    "execution_start": 1621915041468,
    "execution_millis": 3,
    "deepnote_cell_type": "code"
   },
   "source": "hotel.rename({'children_guest':'children'},axis=1,inplace=True)",
   "execution_count": null,
   "outputs": []
  },
  {
   "cell_type": "code",
   "metadata": {
    "tags": [],
    "cell_id": "00010-1ebd43a9-b93e-4285-a711-ef27c601daf2",
    "deepnote_to_be_reexecuted": false,
    "source_hash": "6288bc1d",
    "execution_start": 1621915047697,
    "execution_millis": 405,
    "deepnote_cell_type": "code"
   },
   "source": "hotel.to_csv('hotel_booking_clean.csv', index=False)",
   "execution_count": null,
   "outputs": []
  },
  {
   "cell_type": "code",
   "metadata": {
    "tags": [],
    "cell_id": "00014-6be3f634-8d08-4101-9691-1a2d6fd38f9a",
    "deepnote_to_be_reexecuted": false,
    "source_hash": "f5091d49",
    "execution_start": 1621915044115,
    "execution_millis": 7,
    "deepnote_cell_type": "code"
   },
   "source": "hotel.head()",
   "execution_count": null,
   "outputs": [
    {
     "output_type": "execute_result",
     "execution_count": 20,
     "data": {
      "application/vnd.deepnote.dataframe.v2+json": {
       "row_count": 5,
       "column_count": 10,
       "columns": [
        {
         "name": "hotel",
         "dtype": "object",
         "stats": {
          "unique_count": 1,
          "nan_count": 0,
          "categories": [
           {
            "name": "Resort Hotel",
            "count": 5
           }
          ]
         }
        },
        {
         "name": "is_canceled",
         "dtype": "int64",
         "stats": {
          "unique_count": 1,
          "nan_count": 0,
          "min": "0",
          "max": "0",
          "histogram": [
           {
            "bin_start": -0.5,
            "bin_end": -0.4,
            "count": 0
           },
           {
            "bin_start": -0.4,
            "bin_end": -0.3,
            "count": 0
           },
           {
            "bin_start": -0.3,
            "bin_end": -0.19999999999999996,
            "count": 0
           },
           {
            "bin_start": -0.19999999999999996,
            "bin_end": -0.09999999999999998,
            "count": 0
           },
           {
            "bin_start": -0.09999999999999998,
            "bin_end": 0,
            "count": 0
           },
           {
            "bin_start": 0,
            "bin_end": 0.10000000000000009,
            "count": 5
           },
           {
            "bin_start": 0.10000000000000009,
            "bin_end": 0.20000000000000007,
            "count": 0
           },
           {
            "bin_start": 0.20000000000000007,
            "bin_end": 0.30000000000000004,
            "count": 0
           },
           {
            "bin_start": 0.30000000000000004,
            "bin_end": 0.4,
            "count": 0
           },
           {
            "bin_start": 0.4,
            "bin_end": 0.5,
            "count": 0
           }
          ]
         }
        },
        {
         "name": "lead_time",
         "dtype": "int64",
         "stats": {
          "unique_count": 5,
          "nan_count": 0,
          "min": "7",
          "max": "737",
          "histogram": [
           {
            "bin_start": 7,
            "bin_end": 80,
            "count": 3
           },
           {
            "bin_start": 80,
            "bin_end": 153,
            "count": 0
           },
           {
            "bin_start": 153,
            "bin_end": 226,
            "count": 0
           },
           {
            "bin_start": 226,
            "bin_end": 299,
            "count": 0
           },
           {
            "bin_start": 299,
            "bin_end": 372,
            "count": 1
           },
           {
            "bin_start": 372,
            "bin_end": 445,
            "count": 0
           },
           {
            "bin_start": 445,
            "bin_end": 518,
            "count": 0
           },
           {
            "bin_start": 518,
            "bin_end": 591,
            "count": 0
           },
           {
            "bin_start": 591,
            "bin_end": 664,
            "count": 0
           },
           {
            "bin_start": 664,
            "bin_end": 737,
            "count": 1
           }
          ]
         }
        },
        {
         "name": "stays_in_weekend_nights",
         "dtype": "int64",
         "stats": {
          "unique_count": 1,
          "nan_count": 0,
          "min": "0",
          "max": "0",
          "histogram": [
           {
            "bin_start": -0.5,
            "bin_end": -0.4,
            "count": 0
           },
           {
            "bin_start": -0.4,
            "bin_end": -0.3,
            "count": 0
           },
           {
            "bin_start": -0.3,
            "bin_end": -0.19999999999999996,
            "count": 0
           },
           {
            "bin_start": -0.19999999999999996,
            "bin_end": -0.09999999999999998,
            "count": 0
           },
           {
            "bin_start": -0.09999999999999998,
            "bin_end": 0,
            "count": 0
           },
           {
            "bin_start": 0,
            "bin_end": 0.10000000000000009,
            "count": 5
           },
           {
            "bin_start": 0.10000000000000009,
            "bin_end": 0.20000000000000007,
            "count": 0
           },
           {
            "bin_start": 0.20000000000000007,
            "bin_end": 0.30000000000000004,
            "count": 0
           },
           {
            "bin_start": 0.30000000000000004,
            "bin_end": 0.4,
            "count": 0
           },
           {
            "bin_start": 0.4,
            "bin_end": 0.5,
            "count": 0
           }
          ]
         }
        },
        {
         "name": "stays_in_week_nights",
         "dtype": "int64",
         "stats": {
          "unique_count": 3,
          "nan_count": 0,
          "min": "0",
          "max": "2",
          "histogram": [
           {
            "bin_start": 0,
            "bin_end": 0.2,
            "count": 2
           },
           {
            "bin_start": 0.2,
            "bin_end": 0.4,
            "count": 0
           },
           {
            "bin_start": 0.4,
            "bin_end": 0.6000000000000001,
            "count": 0
           },
           {
            "bin_start": 0.6000000000000001,
            "bin_end": 0.8,
            "count": 0
           },
           {
            "bin_start": 0.8,
            "bin_end": 1,
            "count": 0
           },
           {
            "bin_start": 1,
            "bin_end": 1.2000000000000002,
            "count": 2
           },
           {
            "bin_start": 1.2000000000000002,
            "bin_end": 1.4000000000000001,
            "count": 0
           },
           {
            "bin_start": 1.4000000000000001,
            "bin_end": 1.6,
            "count": 0
           },
           {
            "bin_start": 1.6,
            "bin_end": 1.8,
            "count": 0
           },
           {
            "bin_start": 1.8,
            "bin_end": 2,
            "count": 1
           }
          ]
         }
        },
        {
         "name": "adults",
         "dtype": "int64",
         "stats": {
          "unique_count": 2,
          "nan_count": 0,
          "min": "1",
          "max": "2",
          "histogram": [
           {
            "bin_start": 1,
            "bin_end": 1.1,
            "count": 2
           },
           {
            "bin_start": 1.1,
            "bin_end": 1.2,
            "count": 0
           },
           {
            "bin_start": 1.2,
            "bin_end": 1.3,
            "count": 0
           },
           {
            "bin_start": 1.3,
            "bin_end": 1.4,
            "count": 0
           },
           {
            "bin_start": 1.4,
            "bin_end": 1.5,
            "count": 0
           },
           {
            "bin_start": 1.5,
            "bin_end": 1.6,
            "count": 0
           },
           {
            "bin_start": 1.6,
            "bin_end": 1.7000000000000002,
            "count": 0
           },
           {
            "bin_start": 1.7000000000000002,
            "bin_end": 1.8,
            "count": 0
           },
           {
            "bin_start": 1.8,
            "bin_end": 1.9,
            "count": 0
           },
           {
            "bin_start": 1.9,
            "bin_end": 2,
            "count": 3
           }
          ]
         }
        },
        {
         "name": "country",
         "dtype": "object",
         "stats": {
          "unique_count": 2,
          "nan_count": 0,
          "categories": [
           {
            "name": "GBR",
            "count": 3
           },
           {
            "name": "PRT",
            "count": 2
           }
          ]
         }
        },
        {
         "name": "adr",
         "dtype": "float64",
         "stats": {
          "unique_count": 3,
          "nan_count": 0,
          "min": "0.0",
          "max": "98.0",
          "histogram": [
           {
            "bin_start": 0,
            "bin_end": 9.8,
            "count": 2
           },
           {
            "bin_start": 9.8,
            "bin_end": 19.6,
            "count": 0
           },
           {
            "bin_start": 19.6,
            "bin_end": 29.400000000000002,
            "count": 0
           },
           {
            "bin_start": 29.400000000000002,
            "bin_end": 39.2,
            "count": 0
           },
           {
            "bin_start": 39.2,
            "bin_end": 49,
            "count": 0
           },
           {
            "bin_start": 49,
            "bin_end": 58.800000000000004,
            "count": 0
           },
           {
            "bin_start": 58.800000000000004,
            "bin_end": 68.60000000000001,
            "count": 0
           },
           {
            "bin_start": 68.60000000000001,
            "bin_end": 78.4,
            "count": 2
           },
           {
            "bin_start": 78.4,
            "bin_end": 88.2,
            "count": 0
           },
           {
            "bin_start": 88.2,
            "bin_end": 98,
            "count": 1
           }
          ]
         }
        },
        {
         "name": "arrival_date",
         "dtype": "object",
         "stats": {
          "unique_count": 1,
          "nan_count": 0,
          "categories": [
           {
            "name": "2015-July-1",
            "count": 5
           }
          ]
         }
        },
        {
         "name": "children",
         "dtype": "float64",
         "stats": {
          "unique_count": 1,
          "nan_count": 0,
          "min": "0.0",
          "max": "0.0",
          "histogram": [
           {
            "bin_start": -0.5,
            "bin_end": -0.4,
            "count": 0
           },
           {
            "bin_start": -0.4,
            "bin_end": -0.3,
            "count": 0
           },
           {
            "bin_start": -0.3,
            "bin_end": -0.19999999999999996,
            "count": 0
           },
           {
            "bin_start": -0.19999999999999996,
            "bin_end": -0.09999999999999998,
            "count": 0
           },
           {
            "bin_start": -0.09999999999999998,
            "bin_end": 0,
            "count": 0
           },
           {
            "bin_start": 0,
            "bin_end": 0.10000000000000009,
            "count": 5
           },
           {
            "bin_start": 0.10000000000000009,
            "bin_end": 0.20000000000000007,
            "count": 0
           },
           {
            "bin_start": 0.20000000000000007,
            "bin_end": 0.30000000000000004,
            "count": 0
           },
           {
            "bin_start": 0.30000000000000004,
            "bin_end": 0.4,
            "count": 0
           },
           {
            "bin_start": 0.4,
            "bin_end": 0.5,
            "count": 0
           }
          ]
         }
        },
        {
         "name": "_deepnote_index_column",
         "dtype": "int64"
        }
       ],
       "rows_top": [
        {
         "hotel": "Resort Hotel",
         "is_canceled": 0,
         "lead_time": 342,
         "stays_in_weekend_nights": 0,
         "stays_in_week_nights": 0,
         "adults": 2,
         "country": "PRT",
         "adr": 0,
         "arrival_date": "2015-July-1",
         "children": 0,
         "_deepnote_index_column": 0
        },
        {
         "hotel": "Resort Hotel",
         "is_canceled": 0,
         "lead_time": 737,
         "stays_in_weekend_nights": 0,
         "stays_in_week_nights": 0,
         "adults": 2,
         "country": "PRT",
         "adr": 0,
         "arrival_date": "2015-July-1",
         "children": 0,
         "_deepnote_index_column": 1
        },
        {
         "hotel": "Resort Hotel",
         "is_canceled": 0,
         "lead_time": 7,
         "stays_in_weekend_nights": 0,
         "stays_in_week_nights": 1,
         "adults": 1,
         "country": "GBR",
         "adr": 75,
         "arrival_date": "2015-July-1",
         "children": 0,
         "_deepnote_index_column": 2
        },
        {
         "hotel": "Resort Hotel",
         "is_canceled": 0,
         "lead_time": 13,
         "stays_in_weekend_nights": 0,
         "stays_in_week_nights": 1,
         "adults": 1,
         "country": "GBR",
         "adr": 75,
         "arrival_date": "2015-July-1",
         "children": 0,
         "_deepnote_index_column": 3
        },
        {
         "hotel": "Resort Hotel",
         "is_canceled": 0,
         "lead_time": 14,
         "stays_in_weekend_nights": 0,
         "stays_in_week_nights": 2,
         "adults": 2,
         "country": "GBR",
         "adr": 98,
         "arrival_date": "2015-July-1",
         "children": 0,
         "_deepnote_index_column": 4
        }
       ],
       "rows_bottom": null
      },
      "text/plain": "          hotel  is_canceled  lead_time  stays_in_weekend_nights  \\\n0  Resort Hotel            0        342                        0   \n1  Resort Hotel            0        737                        0   \n2  Resort Hotel            0          7                        0   \n3  Resort Hotel            0         13                        0   \n4  Resort Hotel            0         14                        0   \n\n   stays_in_week_nights  adults country   adr arrival_date  children  \n0                     0       2     PRT   0.0  2015-July-1       0.0  \n1                     0       2     PRT   0.0  2015-July-1       0.0  \n2                     1       1     GBR  75.0  2015-July-1       0.0  \n3                     1       1     GBR  75.0  2015-July-1       0.0  \n4                     2       2     GBR  98.0  2015-July-1       0.0  ",
      "text/html": "<div>\n<style scoped>\n    .dataframe tbody tr th:only-of-type {\n        vertical-align: middle;\n    }\n\n    .dataframe tbody tr th {\n        vertical-align: top;\n    }\n\n    .dataframe thead th {\n        text-align: right;\n    }\n</style>\n<table border=\"1\" class=\"dataframe\">\n  <thead>\n    <tr style=\"text-align: right;\">\n      <th></th>\n      <th>hotel</th>\n      <th>is_canceled</th>\n      <th>lead_time</th>\n      <th>stays_in_weekend_nights</th>\n      <th>stays_in_week_nights</th>\n      <th>adults</th>\n      <th>country</th>\n      <th>adr</th>\n      <th>arrival_date</th>\n      <th>children</th>\n    </tr>\n  </thead>\n  <tbody>\n    <tr>\n      <th>0</th>\n      <td>Resort Hotel</td>\n      <td>0</td>\n      <td>342</td>\n      <td>0</td>\n      <td>0</td>\n      <td>2</td>\n      <td>PRT</td>\n      <td>0.0</td>\n      <td>2015-July-1</td>\n      <td>0.0</td>\n    </tr>\n    <tr>\n      <th>1</th>\n      <td>Resort Hotel</td>\n      <td>0</td>\n      <td>737</td>\n      <td>0</td>\n      <td>0</td>\n      <td>2</td>\n      <td>PRT</td>\n      <td>0.0</td>\n      <td>2015-July-1</td>\n      <td>0.0</td>\n    </tr>\n    <tr>\n      <th>2</th>\n      <td>Resort Hotel</td>\n      <td>0</td>\n      <td>7</td>\n      <td>0</td>\n      <td>1</td>\n      <td>1</td>\n      <td>GBR</td>\n      <td>75.0</td>\n      <td>2015-July-1</td>\n      <td>0.0</td>\n    </tr>\n    <tr>\n      <th>3</th>\n      <td>Resort Hotel</td>\n      <td>0</td>\n      <td>13</td>\n      <td>0</td>\n      <td>1</td>\n      <td>1</td>\n      <td>GBR</td>\n      <td>75.0</td>\n      <td>2015-July-1</td>\n      <td>0.0</td>\n    </tr>\n    <tr>\n      <th>4</th>\n      <td>Resort Hotel</td>\n      <td>0</td>\n      <td>14</td>\n      <td>0</td>\n      <td>2</td>\n      <td>2</td>\n      <td>GBR</td>\n      <td>98.0</td>\n      <td>2015-July-1</td>\n      <td>0.0</td>\n    </tr>\n  </tbody>\n</table>\n</div>"
     },
     "metadata": {}
    }
   ]
  },
  {
   "cell_type": "markdown",
   "source": "<a style='text-decoration:none;line-height:16px;display:flex;color:#5B5B62;padding:10px;justify-content:end;' href='https://deepnote.com?utm_source=created-in-deepnote-cell&projectId=de45da20-1219-4f00-8675-a888ae42cd44' target=\"_blank\">\n<img alt='Created in deepnote.com' style='display:inline;max-height:16px;margin:0px;margin-right:7.5px;' src='data:image/svg+xml;base64,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' > </img>\nCreated in <span style='font-weight:600;margin-left:4px;'>Deepnote</span></a>",
   "metadata": {
    "tags": [],
    "created_in_deepnote_cell": true,
    "deepnote_cell_type": "markdown"
   }
  }
 ],
 "nbformat": 4,
 "nbformat_minor": 2,
 "metadata": {
  "orig_nbformat": 2,
  "deepnote": {
   "is_reactive": false
  },
  "deepnote_notebook_id": "7d1746e7-684c-4b3e-89d7-a9d2c7dcfb5b",
  "deepnote_execution_queue": []
 }
}